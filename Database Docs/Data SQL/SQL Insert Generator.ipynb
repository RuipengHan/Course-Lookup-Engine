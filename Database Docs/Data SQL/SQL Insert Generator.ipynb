{
 "cells": [
  {
   "cell_type": "code",
   "execution_count": 20,
   "metadata": {},
   "outputs": [],
   "source": [
    "# Author: Ruipeng Han\n",
    "# This python script is for generating insertion sql commands given the csv files.\n",
    "import csv"
   ]
  },
  {
   "cell_type": "code",
   "execution_count": 15,
   "metadata": {},
   "outputs": [],
   "source": [
    "# Script for generating sql commands for Sections table.\n",
    "f = open(\"Sections.sql\", \"w\")\n",
    "\n",
    "with open('Sections.csv', newline='') as csvfile:\n",
    "    reader = csv.DictReader(csvfile)\n",
    "    for row in reader:\n",
    "        professor = row['professor']\n",
    "        if len(professor) > 250:\n",
    "            professor = professor[:250]\n",
    "        sql = 'INSERT INTO Sections VALUES (' + row['crn'] + ',' + row['course'] + ','\\\n",
    "        + row['students_count'] + ','+ row['average_gpa']+ ','+ row['year'] + ','+ '\"'+row['semester']+ '\"' +','\\\n",
    "        + '\\\"' + professor + '\\\"' + ');' + '\\n'\n",
    "        f.write(sql)\n",
    "#         print(sql)\n",
    "f.close()"
   ]
  },
  {
   "cell_type": "code",
   "execution_count": null,
   "metadata": {},
   "outputs": [],
   "source": []
  },
  {
   "cell_type": "code",
   "execution_count": 31,
   "metadata": {},
   "outputs": [],
   "source": [
    "# Script for generating sql commands for Comments table.\n",
    "f = open(\"Comments.sql\", \"w\")\n",
    "\n",
    "with open('Comments.csv', newline='') as comment_csv:\n",
    "    reader = csv.DictReader(comment_csv)\n",
    "    for row in reader:\n",
    "        sql = 'INSERT INTO Comments VALUES (' + row['\\ufeffcomment_id'] + ',' +row['commenter'] +','\\\n",
    "        + row['course'] + ','+ '\"' + row['comment']+ '\"'+','+ '\\'2010-12-31 01:15:00\\'' + ','+row['likes'] +','\\\n",
    "        + row['dislikes'] + ',' + 'NULL' +');' + '\\n'\n",
    "        f.write(sql)\n",
    "#         print(sql)\n",
    "f.close()"
   ]
  },
  {
   "cell_type": "code",
   "execution_count": null,
   "metadata": {},
   "outputs": [],
   "source": []
  },
  {
   "cell_type": "code",
   "execution_count": 35,
   "metadata": {},
   "outputs": [],
   "source": [
    "# Script for generating sql commands for Ratings table.\n",
    "f = open(\"Ratings.sql\", \"w\")\n",
    "\n",
    "with open('Ratings.csv', newline='') as rating_csv:\n",
    "    reader = csv.DictReader(rating_csv)\n",
    "    for row in reader:\n",
    "        sql = 'INSERT INTO Ratings VALUES (' + row['\\ufeffid'] + ',' +row['course'] +','\\\n",
    "        + row['rater'] + ',' + row['overall_quality']+ ',' + row['professor'] + ','+row['workload'] +','\\\n",
    "        + row['rubric'] + ',' + row['difficulty'] + ',' + '\\'' + row['grade_received'] + '\\'' + ');' + '\\n'\n",
    "        f.write(sql)\n",
    "#         print(sql)\n",
    "f.close()"
   ]
  },
  {
   "cell_type": "code",
   "execution_count": null,
   "metadata": {},
   "outputs": [],
   "source": []
  },
  {
   "cell_type": "code",
   "execution_count": 40,
   "metadata": {},
   "outputs": [],
   "source": [
    "# Script for generating sql commands for Likes table.\n",
    "f = open(\"Likes.sql\", \"w\")\n",
    "\n",
    "with open('Likes.csv', newline='') as like_csv:\n",
    "    reader = csv.DictReader(like_csv)\n",
    "    for row in reader:\n",
    "        sql = 'INSERT INTO Likes VALUES (' + row['user'] + ',' +row['comment'] +','\\\n",
    "        + row['isLike'] + ',' +'\\'2022-3-11 01:15:00\\'' + ');' + '\\n'\n",
    "        f.write(sql)\n",
    "#         print(sql)\n",
    "f.close()"
   ]
  },
  {
   "cell_type": "code",
   "execution_count": null,
   "metadata": {},
   "outputs": [],
   "source": []
  },
  {
   "cell_type": "code",
   "execution_count": 43,
   "metadata": {},
   "outputs": [],
   "source": [
    "# Script for generating sql commands for Enrollments table.\n",
    "f = open(\"Enrollments.sql\", \"w\")\n",
    "\n",
    "with open('Enrollments.csv', newline='') as enrollment_csv:\n",
    "    reader = csv.DictReader(enrollment_csv)\n",
    "    for row in reader:\n",
    "        sql = 'INSERT INTO Enrollments VALUES (' + row['student'] + ',' +row['crn'] +','\\\n",
    "        + row['course_id'] + ',' + '\\'' + row['grade'] + '\\'' + ',' + row['credits']+');' + '\\n'\n",
    "        f.write(sql)\n",
    "#         print(sql)\n",
    "f.close()"
   ]
  },
  {
   "cell_type": "code",
   "execution_count": null,
   "metadata": {},
   "outputs": [],
   "source": []
  }
 ],
 "metadata": {
  "kernelspec": {
   "display_name": "Python 3",
   "language": "python",
   "name": "python3"
  },
  "language_info": {
   "codemirror_mode": {
    "name": "ipython",
    "version": 3
   },
   "file_extension": ".py",
   "mimetype": "text/x-python",
   "name": "python",
   "nbconvert_exporter": "python",
   "pygments_lexer": "ipython3",
   "version": "3.8.5"
  }
 },
 "nbformat": 4,
 "nbformat_minor": 4
}
